{
  "cells": [
    {
      "attachments": {},
      "cell_type": "markdown",
      "id": "jGxqF4aIjNSq",
      "metadata": {
        "id": "jGxqF4aIjNSq"
      },
      "source": [
        "# <center> <u>Data Structures <u> </center>"
      ]
    },
    {
      "attachments": {},
      "cell_type": "markdown",
      "id": "Tyavi31ZjNSw",
      "metadata": {
        "id": "Tyavi31ZjNSw"
      },
      "source": [
        "## 1. Lists\n",
        "\n"
      ]
    },
    {
      "attachments": {},
      "cell_type": "markdown",
      "id": "FO8G7ie_jNSx",
      "metadata": {
        "id": "FO8G7ie_jNSx"
      },
      "source": [
        "<p style='text-align: right;'> 1+1+1 = 3 points</p>\n"
      ]
    },
    {
      "attachments": {},
      "cell_type": "markdown",
      "id": "tkDQdRdUjNSy",
      "metadata": {
        "id": "tkDQdRdUjNSy"
      },
      "source": [
        "#### 1.1 Create an empty list with the name ‘a’, print the value of a and type(a).\n"
      ]
    },
    {
      "cell_type": "code",
      "execution_count": 1,
      "id": "a6i4yNGvjNSz",
      "metadata": {
        "id": "a6i4yNGvjNSz"
      },
      "outputs": [],
      "source": [
        "# create empty list, name it 'a'\n",
        "\n",
        "a=[]"
      ]
    },
    {
      "cell_type": "code",
      "execution_count": 2,
      "id": "M8FMNQEgjNS0",
      "metadata": {
        "colab": {
          "base_uri": "https://localhost:8080/"
        },
        "id": "M8FMNQEgjNS0",
        "outputId": "3756af2f-d76c-499c-fff5-b800f0063ef8"
      },
      "outputs": [
        {
          "name": "stdout",
          "output_type": "stream",
          "text": [
            "[]\n"
          ]
        }
      ],
      "source": [
        "# print the value of a\n",
        "print(a)\n",
        "\n",
        "\n"
      ]
    },
    {
      "cell_type": "code",
      "execution_count": 3,
      "id": "Jfc9sg1vjNS1",
      "metadata": {
        "colab": {
          "base_uri": "https://localhost:8080/"
        },
        "id": "Jfc9sg1vjNS1",
        "outputId": "bdf41dbd-3648-430c-c1bf-63f93b7389ef"
      },
      "outputs": [
        {
          "name": "stdout",
          "output_type": "stream",
          "text": [
            "<class 'list'>\n"
          ]
        }
      ],
      "source": [
        "# print the type of a\n",
        "\n",
        "print(type(a))"
      ]
    },
    {
      "attachments": {},
      "cell_type": "markdown",
      "id": "UNpN9_w4jNS1",
      "metadata": {
        "id": "UNpN9_w4jNS1"
      },
      "source": [
        "#### 1.2.Create a list , languages = ['R','Python', 'SAS', 'Scala', 42], "
      ]
    },
    {
      "attachments": {},
      "cell_type": "markdown",
      "id": "cx1xurKpjNS2",
      "metadata": {
        "id": "cx1xurKpjNS2"
      },
      "source": [
        "<p style='text-align: right;'> 1+1+1+1+1+1+1+1 = 7 points</p>\n"
      ]
    },
    {
      "cell_type": "code",
      "execution_count": 4,
      "id": "x-TG-vc5jNS2",
      "metadata": {
        "id": "x-TG-vc5jNS2"
      },
      "outputs": [],
      "source": [
        "languages = ['R','Python', 'SAS', 'Scala', 42]"
      ]
    },
    {
      "attachments": {},
      "cell_type": "markdown",
      "id": "JDSIK8TbjNS3",
      "metadata": {
        "id": "JDSIK8TbjNS3"
      },
      "source": [
        "Print the number of elements in the list"
      ]
    },
    {
      "cell_type": "code",
      "execution_count": 6,
      "id": "C4lBMaM8jNS3",
      "metadata": {
        "colab": {
          "base_uri": "https://localhost:8080/"
        },
        "id": "C4lBMaM8jNS3",
        "outputId": "1c41ddb5-26cc-4923-b6e0-8aa1af62a06b"
      },
      "outputs": [
        {
          "name": "stdout",
          "output_type": "stream",
          "text": [
            "5\n"
          ]
        }
      ],
      "source": [
        "print(len(languages))"
      ]
    },
    {
      "attachments": {},
      "cell_type": "markdown",
      "id": "EyzO_pcnjNS3",
      "metadata": {
        "id": "EyzO_pcnjNS3"
      },
      "source": [
        "Using for loop iterate and print all the elements in the list"
      ]
    },
    {
      "cell_type": "code",
      "execution_count": 7,
      "id": "TyM54ydsjNS4",
      "metadata": {
        "colab": {
          "base_uri": "https://localhost:8080/"
        },
        "id": "TyM54ydsjNS4",
        "outputId": "e37fb697-527f-4af3-d9d0-1d63cb2a6e1b"
      },
      "outputs": [
        {
          "name": "stdout",
          "output_type": "stream",
          "text": [
            "R\n",
            "Python\n",
            "SAS\n",
            "Scala\n",
            "42\n"
          ]
        }
      ],
      "source": [
        "\n",
        "\n",
        "for l in languages:\n",
        "  print(l)\n"
      ]
    },
    {
      "attachments": {},
      "cell_type": "markdown",
      "id": "eC1fqz9LjNS4",
      "metadata": {
        "id": "eC1fqz9LjNS4"
      },
      "source": [
        "Select the second item, 'Python' and store it in a new variable named 'temp'"
      ]
    },
    {
      "cell_type": "code",
      "execution_count": 8,
      "id": "KY0KhRlOjNS4",
      "metadata": {
        "id": "KY0KhRlOjNS4"
      },
      "outputs": [],
      "source": [
        "temp = languages[1]"
      ]
    },
    {
      "attachments": {},
      "cell_type": "markdown",
      "id": "breORMa_jNS4",
      "metadata": {
        "id": "breORMa_jNS4"
      },
      "source": [
        "Print the value of temp and type(temp)"
      ]
    },
    {
      "cell_type": "code",
      "execution_count": 9,
      "id": "MbvX2aIgjNS5",
      "metadata": {
        "colab": {
          "base_uri": "https://localhost:8080/"
        },
        "id": "MbvX2aIgjNS5",
        "outputId": "7aaa9df7-a990-40ed-c8bc-200b4eecfab8"
      },
      "outputs": [
        {
          "name": "stdout",
          "output_type": "stream",
          "text": [
            "Python\n",
            "<class 'str'>\n"
          ]
        }
      ],
      "source": [
        "\n",
        "print(temp)\n",
        "print(type(temp))\n"
      ]
    },
    {
      "attachments": {},
      "cell_type": "markdown",
      "id": "-JFmICXkjNS5",
      "metadata": {
        "id": "-JFmICXkjNS5"
      },
      "source": [
        "Using list comprehension, print the last two elemets of list"
      ]
    },
    {
      "cell_type": "code",
      "execution_count": 22,
      "id": "e-vo7Pz3jNS5",
      "metadata": {
        "colab": {
          "base_uri": "https://localhost:8080/"
        },
        "id": "e-vo7Pz3jNS5",
        "outputId": "3be873e8-c37d-40d4-8026-3a0ea1c0c9a8"
      },
      "outputs": [
        {
          "data": {
            "text/plain": [
              "['Scala', 42]"
            ]
          },
          "execution_count": 22,
          "metadata": {},
          "output_type": "execute_result"
        }
      ],
      "source": [
        "\n",
        "[l for l in languages[len(languages)-2:len(languages)]]"
      ]
    },
    {
      "attachments": {},
      "cell_type": "markdown",
      "id": "I4MrKlAUjNS5",
      "metadata": {
        "id": "I4MrKlAUjNS5"
      },
      "source": [
        "Append the element 'Java' in the list"
      ]
    },
    {
      "cell_type": "code",
      "execution_count": 23,
      "id": "rOtqZY6PjNS6",
      "metadata": {
        "id": "rOtqZY6PjNS6"
      },
      "outputs": [],
      "source": [
        "languages.append(\"Java\")\n"
      ]
    },
    {
      "attachments": {},
      "cell_type": "markdown",
      "id": "ksEn8qvFjNS6",
      "metadata": {
        "id": "ksEn8qvFjNS6"
      },
      "source": [
        "Remove the element 42 from the list and print the list"
      ]
    },
    {
      "cell_type": "code",
      "execution_count": 24,
      "id": "Lxuzfc1bjNS6",
      "metadata": {
        "colab": {
          "base_uri": "https://localhost:8080/"
        },
        "id": "Lxuzfc1bjNS6",
        "outputId": "a6004547-de82-4211-8dd8-79efb01985e2"
      },
      "outputs": [
        {
          "name": "stdout",
          "output_type": "stream",
          "text": [
            "['R', 'Python', 'SAS', 'Scala', 'Java']\n"
          ]
        }
      ],
      "source": [
        "languages.remove(42)\n",
        "print(languages)\n"
      ]
    },
    {
      "attachments": {},
      "cell_type": "markdown",
      "id": "19MjI0w6jNS6",
      "metadata": {
        "id": "19MjI0w6jNS6"
      },
      "source": [
        "#### 1.3. Create a list, colors = [‘Red’, ‘Blue’, ‘White’]"
      ]
    },
    {
      "attachments": {},
      "cell_type": "markdown",
      "id": "I8TOZSXkjNS7",
      "metadata": {
        "id": "I8TOZSXkjNS7"
      },
      "source": [
        "<p style='text-align: right;'> 1+1+1+1+1+1+1 = 6 points</p>\n"
      ]
    },
    {
      "cell_type": "code",
      "execution_count": 26,
      "id": "Z1lMzdbWjNS7",
      "metadata": {
        "id": "Z1lMzdbWjNS7"
      },
      "outputs": [],
      "source": [
        " colors = ['Red', 'Blue', 'White']"
      ]
    },
    {
      "attachments": {},
      "cell_type": "markdown",
      "id": "VAqLj5R3jNS7",
      "metadata": {
        "id": "VAqLj5R3jNS7"
      },
      "source": [
        "Append the element 'Black' to colors"
      ]
    },
    {
      "cell_type": "code",
      "execution_count": 27,
      "id": "gvb5iC7ljNS7",
      "metadata": {
        "id": "gvb5iC7ljNS7"
      },
      "outputs": [],
      "source": [
        "\n",
        "colors.append(\"Black\")\n"
      ]
    },
    {
      "attachments": {},
      "cell_type": "markdown",
      "id": "MFWIzVcvjNS7",
      "metadata": {
        "id": "MFWIzVcvjNS7"
      },
      "source": [
        "Append the color 'Orange' to second position (index=1) and print the list"
      ]
    },
    {
      "cell_type": "code",
      "execution_count": 28,
      "id": "Fb6YZDSNjNS8",
      "metadata": {
        "id": "Fb6YZDSNjNS8"
      },
      "outputs": [],
      "source": [
        "\n",
        "colors.insert(1,\"Orange\")\n"
      ]
    },
    {
      "attachments": {},
      "cell_type": "markdown",
      "id": "8DWB76AOjNS8",
      "metadata": {
        "id": "8DWB76AOjNS8"
      },
      "source": [
        "Print the list\n"
      ]
    },
    {
      "cell_type": "code",
      "execution_count": 29,
      "id": "0ldkGCozjNS8",
      "metadata": {
        "colab": {
          "base_uri": "https://localhost:8080/"
        },
        "id": "0ldkGCozjNS8",
        "outputId": "c6f55ced-242c-41e3-926a-c49836d82463"
      },
      "outputs": [
        {
          "name": "stdout",
          "output_type": "stream",
          "text": [
            "['Red', 'Orange', 'Blue', 'White', 'Black']\n"
          ]
        }
      ],
      "source": [
        "print(colors)"
      ]
    },
    {
      "attachments": {},
      "cell_type": "markdown",
      "id": "WfFfxvLKjNS8",
      "metadata": {
        "id": "WfFfxvLKjNS8"
      },
      "source": [
        "Create another list, colors2 = [‘Grey’, ‘Sky Blue’]"
      ]
    },
    {
      "cell_type": "code",
      "execution_count": 30,
      "id": "onZEiwdUjNS8",
      "metadata": {
        "id": "onZEiwdUjNS8"
      },
      "outputs": [],
      "source": [
        "colors2 = ['Grey', 'Sky Blue']"
      ]
    },
    {
      "attachments": {},
      "cell_type": "markdown",
      "id": "MrNQk6uKjNS8",
      "metadata": {
        "id": "MrNQk6uKjNS8"
      },
      "source": [
        "Add the elements of colors2 to colors using extend function in the list"
      ]
    },
    {
      "cell_type": "code",
      "execution_count": 31,
      "id": "Hr1Eu88OjNS9",
      "metadata": {
        "id": "Hr1Eu88OjNS9"
      },
      "outputs": [],
      "source": [
        "colors.extend(colors2)"
      ]
    },
    {
      "attachments": {},
      "cell_type": "markdown",
      "id": "u0KDeU20jNS9",
      "metadata": {
        "id": "u0KDeU20jNS9"
      },
      "source": [
        "Print len of colors and its elements"
      ]
    },
    {
      "cell_type": "code",
      "execution_count": 32,
      "id": "bnBmsCg2jNS9",
      "metadata": {
        "colab": {
          "base_uri": "https://localhost:8080/"
        },
        "id": "bnBmsCg2jNS9",
        "outputId": "784c6269-9f13-4ca9-ccca-327405f96f17"
      },
      "outputs": [
        {
          "name": "stdout",
          "output_type": "stream",
          "text": [
            "7\n",
            "['Red', 'Orange', 'Blue', 'White', 'Black', 'Grey', 'Sky Blue']\n"
          ]
        }
      ],
      "source": [
        "\n",
        "print(len(colors))\n",
        "print(colors)\n"
      ]
    },
    {
      "attachments": {},
      "cell_type": "markdown",
      "id": "vJ7YqokSjNS9",
      "metadata": {
        "id": "vJ7YqokSjNS9"
      },
      "source": [
        "Sort the list and print it."
      ]
    },
    {
      "cell_type": "code",
      "execution_count": 33,
      "id": "X14C-1PtjNS9",
      "metadata": {
        "colab": {
          "base_uri": "https://localhost:8080/"
        },
        "id": "X14C-1PtjNS9",
        "outputId": "97e140f0-f538-4ea0-ac9f-e8659a80ec9c"
      },
      "outputs": [
        {
          "name": "stdout",
          "output_type": "stream",
          "text": [
            "['Black', 'Blue', 'Grey', 'Orange', 'Red', 'Sky Blue', 'White']\n"
          ]
        }
      ],
      "source": [
        "\n",
        "print(sorted(colors))\n"
      ]
    },
    {
      "attachments": {},
      "cell_type": "markdown",
      "id": "MdN5B9F9jNS-",
      "metadata": {
        "id": "MdN5B9F9jNS-"
      },
      "source": [
        "#### 1.4. Create a string, sent = ‘Coronavirus Caused Lockdowns Around The World.”"
      ]
    },
    {
      "attachments": {},
      "cell_type": "markdown",
      "id": "2DjK4WMqjNS-",
      "metadata": {
        "id": "2DjK4WMqjNS-"
      },
      "source": [
        "<p style='text-align: right;'> 7 points</p>\n"
      ]
    },
    {
      "cell_type": "code",
      "execution_count": 14,
      "id": "j4JUR085jNS-",
      "metadata": {
        "id": "j4JUR085jNS-"
      },
      "outputs": [],
      "source": [
        "sent = \"Coronavirus Caused Lockdowns Around The World.\""
      ]
    },
    {
      "attachments": {},
      "cell_type": "markdown",
      "id": "rcn18drOjNS-",
      "metadata": {
        "id": "rcn18drOjNS-"
      },
      "source": [
        "Use split function to convert the string into a list of words and save it in variable words and print the same"
      ]
    },
    {
      "cell_type": "code",
      "execution_count": 37,
      "id": "fjiKSboajNS-",
      "metadata": {
        "colab": {
          "base_uri": "https://localhost:8080/"
        },
        "id": "fjiKSboajNS-",
        "outputId": "f8f4e35e-d874-4b93-ebeb-6dafaaf24ea8"
      },
      "outputs": [
        {
          "name": "stdout",
          "output_type": "stream",
          "text": [
            "['Coronavirus', 'Caused', 'Lockdowns', 'Around', 'The', 'World.']\n"
          ]
        }
      ],
      "source": [
        "words= sent.split()\n",
        "print(words)\n",
        "\n"
      ]
    },
    {
      "attachments": {},
      "cell_type": "markdown",
      "id": "rowxhN26jNS_",
      "metadata": {
        "id": "rowxhN26jNS_"
      },
      "source": [
        "Using list comprehensions, convert each word in the list to lower case and store it in variable words_lower. \n",
        "Print words_lower"
      ]
    },
    {
      "cell_type": "code",
      "execution_count": 39,
      "id": "LuzAECOVjNS_",
      "metadata": {
        "colab": {
          "base_uri": "https://localhost:8080/"
        },
        "id": "LuzAECOVjNS_",
        "outputId": "af560684-5c8b-4ce3-9416-88d88dd94316"
      },
      "outputs": [
        {
          "name": "stdout",
          "output_type": "stream",
          "text": [
            "['coronavirus', 'caused', 'lockdowns', 'around', 'the', 'world.']\n"
          ]
        }
      ],
      "source": [
        "words_lower= [w.lower() for w in words]\n",
        "print(words_lower)\n"
      ]
    },
    {
      "attachments": {},
      "cell_type": "markdown",
      "id": "zznwP-l9jNS_",
      "metadata": {
        "id": "zznwP-l9jNS_"
      },
      "source": [
        "Check whether ‘country’ is in the list"
      ]
    },
    {
      "cell_type": "code",
      "execution_count": 43,
      "id": "y-U1felnjNS_",
      "metadata": {
        "colab": {
          "base_uri": "https://localhost:8080/"
        },
        "id": "y-U1felnjNS_",
        "outputId": "b3310d6b-6493-424f-baca-3335090ab3ca"
      },
      "outputs": [
        {
          "name": "stdout",
          "output_type": "stream",
          "text": [
            "False\n"
          ]
        }
      ],
      "source": [
        "print(\"country\" in words_lower)\n"
      ]
    },
    {
      "attachments": {},
      "cell_type": "markdown",
      "id": "AZMvSVKWjNS_",
      "metadata": {
        "id": "AZMvSVKWjNS_"
      },
      "source": [
        "Remove the element ‘the’ from the list and print the list."
      ]
    },
    {
      "cell_type": "code",
      "execution_count": 42,
      "id": "bmDbpYd7jNS_",
      "metadata": {
        "colab": {
          "base_uri": "https://localhost:8080/"
        },
        "id": "bmDbpYd7jNS_",
        "outputId": "820d8ec8-04d3-48b2-caf9-da968c8d050d"
      },
      "outputs": [
        {
          "name": "stdout",
          "output_type": "stream",
          "text": [
            "['coronavirus', 'caused', 'lockdowns', 'around', 'world.']\n"
          ]
        }
      ],
      "source": [
        "\n",
        "words_lower.remove(\"the\")\n",
        "print(words_lower)\n"
      ]
    },
    {
      "attachments": {},
      "cell_type": "markdown",
      "id": "int3gJc0jNS_",
      "metadata": {
        "id": "int3gJc0jNS_"
      },
      "source": [
        "Select the first 4 words from the list words_lower using slicing and store them in a new variable x4"
      ]
    },
    {
      "cell_type": "code",
      "execution_count": 44,
      "id": "fXOJmYI1jNTA",
      "metadata": {
        "id": "fXOJmYI1jNTA"
      },
      "outputs": [],
      "source": [
        "x4=words_lower[:4]"
      ]
    },
    {
      "cell_type": "code",
      "execution_count": 45,
      "id": "2Kb_1V9HjNTA",
      "metadata": {
        "colab": {
          "base_uri": "https://localhost:8080/"
        },
        "id": "2Kb_1V9HjNTA",
        "outputId": "b250d0df-d322-4be3-b73a-c76ea94366ad"
      },
      "outputs": [
        {
          "name": "stdout",
          "output_type": "stream",
          "text": [
            "['coronavirus', 'caused', 'lockdowns', 'around']\n"
          ]
        }
      ],
      "source": [
        "# print x4\n",
        "\n",
        "print(x4)\n"
      ]
    },
    {
      "attachments": {},
      "cell_type": "markdown",
      "id": "3HgP3nUmjNTA",
      "metadata": {
        "id": "3HgP3nUmjNTA"
      },
      "source": [
        "Convert the list of elements to single string using join function and print it"
      ]
    },
    {
      "cell_type": "code",
      "execution_count": 46,
      "id": "hiXO7ekhjNTA",
      "metadata": {
        "colab": {
          "base_uri": "https://localhost:8080/"
        },
        "id": "hiXO7ekhjNTA",
        "outputId": "efa92cd1-1638-48f8-bbd4-edf68c42ba40"
      },
      "outputs": [
        {
          "name": "stdout",
          "output_type": "stream",
          "text": [
            "coronavirus caused lockdowns around\n"
          ]
        }
      ],
      "source": [
        "\n",
        "print(\" \".join(x4))\n"
      ]
    },
    {
      "attachments": {},
      "cell_type": "markdown",
      "id": "tW6We_kvjNTA",
      "metadata": {
        "id": "tW6We_kvjNTA"
      },
      "source": [
        "## 2. Sets"
      ]
    },
    {
      "attachments": {},
      "cell_type": "markdown",
      "id": "02qkte5xjNTA",
      "metadata": {
        "id": "02qkte5xjNTA"
      },
      "source": [
        "#### 2.1. Create stud_grades = ['A','A','B','C','C','F']"
      ]
    },
    {
      "attachments": {},
      "cell_type": "markdown",
      "id": "4UOQJB3OjNTA",
      "metadata": {
        "id": "4UOQJB3OjNTA"
      },
      "source": [
        "<p style='text-align: right;'> 7 points</p>\n"
      ]
    },
    {
      "cell_type": "code",
      "execution_count": 47,
      "id": "M5P_qZaTjNTB",
      "metadata": {
        "id": "M5P_qZaTjNTB"
      },
      "outputs": [],
      "source": [
        "stud_grades = ['A','A','B','C','C','F']"
      ]
    },
    {
      "attachments": {},
      "cell_type": "markdown",
      "id": "XazCnMcBjNTB",
      "metadata": {
        "id": "XazCnMcBjNTB"
      },
      "source": [
        "Print the len of stud_grades"
      ]
    },
    {
      "cell_type": "code",
      "execution_count": 48,
      "id": "gMMJN-V5jNTB",
      "metadata": {
        "colab": {
          "base_uri": "https://localhost:8080/"
        },
        "id": "gMMJN-V5jNTB",
        "outputId": "27a6ecf3-44e2-46ad-c367-79d6af04164f"
      },
      "outputs": [
        {
          "data": {
            "text/plain": [
              "6"
            ]
          },
          "execution_count": 48,
          "metadata": {},
          "output_type": "execute_result"
        }
      ],
      "source": [
        "\n",
        "len(stud_grades)\n"
      ]
    },
    {
      "attachments": {},
      "cell_type": "markdown",
      "id": "ALm7hstGjNTB",
      "metadata": {
        "id": "ALm7hstGjNTB"
      },
      "source": [
        "Create a new variable, stud_grades_set = set(stud_grades)"
      ]
    },
    {
      "cell_type": "code",
      "execution_count": 49,
      "id": "J8CYchJxjNTB",
      "metadata": {
        "id": "J8CYchJxjNTB"
      },
      "outputs": [],
      "source": [
        "stud_grades_set = set(stud_grades)"
      ]
    },
    {
      "attachments": {},
      "cell_type": "markdown",
      "id": "JJESkQiJjNTB",
      "metadata": {
        "id": "JJESkQiJjNTB"
      },
      "source": [
        "Print stud_grades_set. "
      ]
    },
    {
      "cell_type": "code",
      "execution_count": 50,
      "id": "Q-daiiLPjNTB",
      "metadata": {
        "colab": {
          "base_uri": "https://localhost:8080/"
        },
        "id": "Q-daiiLPjNTB",
        "outputId": "3b44e2bb-6cd4-43af-b02b-c3e949977bc8"
      },
      "outputs": [
        {
          "name": "stdout",
          "output_type": "stream",
          "text": [
            "{'C', 'F', 'B', 'A'}\n"
          ]
        }
      ],
      "source": [
        "\n",
        "print(stud_grades_set)\n"
      ]
    },
    {
      "attachments": {},
      "cell_type": "markdown",
      "id": "hNeCPwPOjNTC",
      "metadata": {
        "id": "hNeCPwPOjNTC"
      },
      "source": [
        "print the type of stud_grades and stud_grades_set and print their corresponding elements. Try to understand the difference between them."
      ]
    },
    {
      "cell_type": "code",
      "execution_count": 52,
      "id": "g7cntC0ojNTC",
      "metadata": {
        "colab": {
          "base_uri": "https://localhost:8080/"
        },
        "id": "g7cntC0ojNTC",
        "outputId": "f0574758-628e-424e-a784-f81536f26f11"
      },
      "outputs": [
        {
          "name": "stdout",
          "output_type": "stream",
          "text": [
            "<class 'list'> ['A', 'A', 'B', 'C', 'C', 'F']\n",
            "<class 'set'> {'C', 'F', 'B', 'A'}\n"
          ]
        }
      ],
      "source": [
        "\n",
        "print(type(stud_grades), stud_grades)\n",
        "print(type(stud_grades_set), stud_grades_set)\n"
      ]
    },
    {
      "attachments": {},
      "cell_type": "markdown",
      "id": "WjzzJX8yjNTC",
      "metadata": {
        "id": "WjzzJX8yjNTC"
      },
      "source": [
        "Add a new element ‘G’ to stud_grades_set"
      ]
    },
    {
      "cell_type": "code",
      "execution_count": 53,
      "id": "y80DVAlRjNTC",
      "metadata": {
        "id": "y80DVAlRjNTC"
      },
      "outputs": [],
      "source": [
        "stud_grades_set.add(\"G\")\n"
      ]
    },
    {
      "attachments": {},
      "cell_type": "markdown",
      "id": "4TO9zhSJjNTC",
      "metadata": {
        "id": "4TO9zhSJjNTC"
      },
      "source": [
        "Add element 'F' to stud_grades_set. and print it."
      ]
    },
    {
      "cell_type": "code",
      "execution_count": 55,
      "id": "Bh4tc1zCjNTC",
      "metadata": {
        "colab": {
          "base_uri": "https://localhost:8080/"
        },
        "id": "Bh4tc1zCjNTC",
        "outputId": "47aba4f6-5750-4ccb-f466-5b9009eee870"
      },
      "outputs": [
        {
          "name": "stdout",
          "output_type": "stream",
          "text": [
            "{'G', 'C', 'F', 'B', 'A'}\n"
          ]
        }
      ],
      "source": [
        "\n",
        "stud_grades_set.add(\"F\")\n",
        "\n",
        "print(stud_grades_set)\n"
      ]
    },
    {
      "attachments": {},
      "cell_type": "markdown",
      "id": "FSgM3DD5jNTD",
      "metadata": {
        "id": "FSgM3DD5jNTD"
      },
      "source": [
        "!!Did you notice? set doesn't add an element if it's already present in it, unlike lists."
      ]
    },
    {
      "attachments": {},
      "cell_type": "markdown",
      "id": "tqz1GBM5jNTD",
      "metadata": {
        "id": "tqz1GBM5jNTD"
      },
      "source": [
        "Remove ‘F’ from stud_grades_set"
      ]
    },
    {
      "cell_type": "code",
      "execution_count": 56,
      "id": "zOLBDdk0jNTD",
      "metadata": {
        "id": "zOLBDdk0jNTD"
      },
      "outputs": [],
      "source": [
        "\n",
        "stud_grades_set.remove(\"F\")\n",
        "\n"
      ]
    },
    {
      "attachments": {},
      "cell_type": "markdown",
      "id": "wxMXywoRjNTD",
      "metadata": {
        "id": "wxMXywoRjNTD"
      },
      "source": [
        "Print the elements and the length of stud_grades_set"
      ]
    },
    {
      "cell_type": "code",
      "execution_count": 57,
      "id": "lS582g27jNTD",
      "metadata": {
        "colab": {
          "base_uri": "https://localhost:8080/"
        },
        "id": "lS582g27jNTD",
        "outputId": "20db8696-dd8f-40e4-8ff5-90c1faab390b"
      },
      "outputs": [
        {
          "name": "stdout",
          "output_type": "stream",
          "text": [
            "{'G', 'C', 'B', 'A'}\n",
            "4\n"
          ]
        }
      ],
      "source": [
        "\n",
        "print(stud_grades_set)\n",
        "print(len(stud_grades_set))\n"
      ]
    },
    {
      "attachments": {},
      "cell_type": "markdown",
      "id": "FctCYkNBjNTD",
      "metadata": {
        "id": "FctCYkNBjNTD"
      },
      "source": [
        "#### 2.2. Create colors = [‘red’,’blue’,’orange’], and fruits = [‘orange’,’grapes’,’apples’] "
      ]
    },
    {
      "attachments": {},
      "cell_type": "markdown",
      "id": "sXY8UxDpjNTD",
      "metadata": {
        "id": "sXY8UxDpjNTD"
      },
      "source": [
        "<p style='text-align: right;'> 6 points</p>\n"
      ]
    },
    {
      "cell_type": "code",
      "execution_count": 58,
      "id": "93ifrysKjNTE",
      "metadata": {
        "id": "93ifrysKjNTE"
      },
      "outputs": [],
      "source": [
        "colors = ['red','blue','orange']\n",
        "fruits = ['orange','grapes','apples'] "
      ]
    },
    {
      "attachments": {},
      "cell_type": "markdown",
      "id": "kfIRtvphjNTE",
      "metadata": {
        "id": "kfIRtvphjNTE"
      },
      "source": [
        "Print color and fruits"
      ]
    },
    {
      "cell_type": "code",
      "execution_count": 59,
      "id": "q-gavK0-jNTE",
      "metadata": {
        "colab": {
          "base_uri": "https://localhost:8080/"
        },
        "id": "q-gavK0-jNTE",
        "outputId": "e8722c96-2a94-42c9-bec3-4686fdbddbe1"
      },
      "outputs": [
        {
          "name": "stdout",
          "output_type": "stream",
          "text": [
            "['red', 'blue', 'orange']\n",
            "['orange', 'grapes', 'apples']\n"
          ]
        }
      ],
      "source": [
        "\n",
        "print(colors)\n",
        "print(fruits)\n"
      ]
    },
    {
      "attachments": {},
      "cell_type": "markdown",
      "id": "uMOTrWwSjNTE",
      "metadata": {
        "id": "uMOTrWwSjNTE"
      },
      "source": [
        "Create colors_set, and fruits_set. (using set() ) and print them"
      ]
    },
    {
      "cell_type": "code",
      "execution_count": 60,
      "id": "79qz3JE6jNTE",
      "metadata": {
        "colab": {
          "base_uri": "https://localhost:8080/"
        },
        "id": "79qz3JE6jNTE",
        "outputId": "3b49462b-020c-4cea-b90b-da4c372fa9ab"
      },
      "outputs": [
        {
          "name": "stdout",
          "output_type": "stream",
          "text": [
            "{'orange', 'red', 'blue'}\n",
            "{'apples', 'grapes', 'orange'}\n"
          ]
        }
      ],
      "source": [
        "colors_set= set(colors)\n",
        "fruits_set= set(fruits)\n",
        "\n",
        "print(colors_set)\n",
        "print(fruits_set)\n",
        "\n"
      ]
    },
    {
      "attachments": {},
      "cell_type": "markdown",
      "id": "tW9fj0R1jNTE",
      "metadata": {
        "id": "tW9fj0R1jNTE"
      },
      "source": [
        "Find the union of both the sets."
      ]
    },
    {
      "cell_type": "code",
      "execution_count": 61,
      "id": "oyskI_CTjNTE",
      "metadata": {
        "colab": {
          "base_uri": "https://localhost:8080/"
        },
        "id": "oyskI_CTjNTE",
        "outputId": "39a42cc2-0934-4477-eb18-a2f13769db68"
      },
      "outputs": [
        {
          "data": {
            "text/plain": [
              "{'apples', 'blue', 'grapes', 'orange', 'red'}"
            ]
          },
          "execution_count": 61,
          "metadata": {},
          "output_type": "execute_result"
        }
      ],
      "source": [
        "\n",
        "colors_set.union(fruits_set)\n"
      ]
    },
    {
      "attachments": {},
      "cell_type": "markdown",
      "id": "3yXYgYBLjNTF",
      "metadata": {
        "id": "3yXYgYBLjNTF"
      },
      "source": [
        "Find the intersection of both the sets "
      ]
    },
    {
      "cell_type": "code",
      "execution_count": 62,
      "id": "3AzYqu5sjNTF",
      "metadata": {
        "colab": {
          "base_uri": "https://localhost:8080/"
        },
        "id": "3AzYqu5sjNTF",
        "outputId": "e11818d8-410c-4c39-8072-80e36a572e00"
      },
      "outputs": [
        {
          "data": {
            "text/plain": [
              "{'orange'}"
            ]
          },
          "execution_count": 62,
          "metadata": {},
          "output_type": "execute_result"
        }
      ],
      "source": [
        "\n",
        "colors_set.intersection(fruits_set)\n"
      ]
    },
    {
      "attachments": {},
      "cell_type": "markdown",
      "id": "PuhlSjH_jNTF",
      "metadata": {
        "id": "PuhlSjH_jNTF"
      },
      "source": [
        "Find the elements which are Fruits but not colors (using set.difference() )"
      ]
    },
    {
      "cell_type": "code",
      "execution_count": 63,
      "id": "gBaxHXrfjNTF",
      "metadata": {
        "colab": {
          "base_uri": "https://localhost:8080/"
        },
        "id": "gBaxHXrfjNTF",
        "outputId": "e08f1cb5-2a5b-45a6-da48-33e16d3c1954"
      },
      "outputs": [
        {
          "data": {
            "text/plain": [
              "{'apples', 'grapes'}"
            ]
          },
          "execution_count": 63,
          "metadata": {},
          "output_type": "execute_result"
        }
      ],
      "source": [
        "\n",
        "fruits_set.difference(colors_set)\n"
      ]
    },
    {
      "attachments": {},
      "cell_type": "markdown",
      "id": "hLZeBta3jNTF",
      "metadata": {
        "id": "hLZeBta3jNTF"
      },
      "source": [
        "## 3. TUPLES"
      ]
    },
    {
      "attachments": {},
      "cell_type": "markdown",
      "id": "Nerhdg66jNTF",
      "metadata": {
        "id": "Nerhdg66jNTF"
      },
      "source": [
        "#### 3.1 . Create temp = [17, ’Virat’, 50.0]"
      ]
    },
    {
      "attachments": {},
      "cell_type": "markdown",
      "id": "Vz45fANGjNTF",
      "metadata": {
        "id": "Vz45fANGjNTF"
      },
      "source": [
        "<p style='text-align: right;'> 7 points</p>\n"
      ]
    },
    {
      "cell_type": "code",
      "execution_count": 65,
      "id": "B7Z45G4fjNTF",
      "metadata": {
        "id": "B7Z45G4fjNTF"
      },
      "outputs": [],
      "source": [
        "temp = [17, 'Virat', 50.0]"
      ]
    },
    {
      "attachments": {},
      "cell_type": "markdown",
      "id": "C0IuMJFijNTG",
      "metadata": {
        "id": "C0IuMJFijNTG"
      },
      "source": [
        "Iterate through temp and print all the items in temp"
      ]
    },
    {
      "cell_type": "code",
      "execution_count": 66,
      "id": "CSKY_cgHjNTG",
      "metadata": {
        "colab": {
          "base_uri": "https://localhost:8080/"
        },
        "id": "CSKY_cgHjNTG",
        "outputId": "7e69fb88-9d5d-47a9-a42c-d24d931b47c0"
      },
      "outputs": [
        {
          "name": "stdout",
          "output_type": "stream",
          "text": [
            "17\n",
            "Virat\n",
            "50.0\n"
          ]
        }
      ],
      "source": [
        "\n",
        "for i in temp:\n",
        "  print(i)\n"
      ]
    },
    {
      "attachments": {},
      "cell_type": "markdown",
      "id": "gI0kBGQ1jNTG",
      "metadata": {
        "id": "gI0kBGQ1jNTG"
      },
      "source": [
        "replace first element with 11 in temp"
      ]
    },
    {
      "cell_type": "code",
      "execution_count": 67,
      "id": "p6JCtyOBjNTG",
      "metadata": {
        "id": "p6JCtyOBjNTG"
      },
      "outputs": [],
      "source": [
        "temp[0] = 11"
      ]
    },
    {
      "attachments": {},
      "cell_type": "markdown",
      "id": "JV3b34AdjNTG",
      "metadata": {
        "id": "JV3b34AdjNTG"
      },
      "source": [
        "Set temp1 = tuple(temp)"
      ]
    },
    {
      "cell_type": "code",
      "execution_count": 68,
      "id": "C2Pg1IOejNTG",
      "metadata": {
        "id": "C2Pg1IOejNTG"
      },
      "outputs": [],
      "source": [
        "temp1 = tuple(temp)"
      ]
    },
    {
      "attachments": {},
      "cell_type": "markdown",
      "id": "Z9LJWgBkjNTG",
      "metadata": {
        "id": "Z9LJWgBkjNTG"
      },
      "source": [
        "Iterate through temp1 and print all the items in temp1. "
      ]
    },
    {
      "cell_type": "code",
      "execution_count": 69,
      "id": "t0v-FZsNjNTH",
      "metadata": {
        "colab": {
          "base_uri": "https://localhost:8080/"
        },
        "id": "t0v-FZsNjNTH",
        "outputId": "27ee7a92-db1b-480a-b51a-32d2b432d97e"
      },
      "outputs": [
        {
          "name": "stdout",
          "output_type": "stream",
          "text": [
            "11\n",
            "Virat\n",
            "50.0\n"
          ]
        }
      ],
      "source": [
        "\n",
        "for i in temp1:\n",
        "  print(i)\n"
      ]
    },
    {
      "attachments": {},
      "cell_type": "markdown",
      "id": "A4FXMQDfjNTH",
      "metadata": {
        "id": "A4FXMQDfjNTH"
      },
      "source": [
        "replace first element with 17 in temp1"
      ]
    },
    {
      "cell_type": "code",
      "execution_count": 70,
      "id": "eioDSdW8jNTH",
      "metadata": {
        "colab": {
          "base_uri": "https://localhost:8080/",
          "height": 165
        },
        "id": "eioDSdW8jNTH",
        "outputId": "546283af-5644-4227-8f7f-cb58064b42e8"
      },
      "outputs": [
        {
          "ename": "TypeError",
          "evalue": "ignored",
          "output_type": "error",
          "traceback": [
            "\u001b[0;31m---------------------------------------------------------------------------\u001b[0m",
            "\u001b[0;31mTypeError\u001b[0m                                 Traceback (most recent call last)",
            "\u001b[0;32m<ipython-input-70-0207b6185b0a>\u001b[0m in \u001b[0;36m<module>\u001b[0;34m\u001b[0m\n\u001b[0;32m----> 1\u001b[0;31m \u001b[0mtemp1\u001b[0m\u001b[0;34m[\u001b[0m\u001b[0;36m0\u001b[0m\u001b[0;34m]\u001b[0m \u001b[0;34m=\u001b[0m \u001b[0;36m17\u001b[0m\u001b[0;34m\u001b[0m\u001b[0;34m\u001b[0m\u001b[0m\n\u001b[0m",
            "\u001b[0;31mTypeError\u001b[0m: 'tuple' object does not support item assignment"
          ]
        }
      ],
      "source": [
        "temp1[0] = 17\n"
      ]
    },
    {
      "attachments": {},
      "cell_type": "markdown",
      "id": "IuGIObFZjNTH",
      "metadata": {
        "id": "IuGIObFZjNTH"
      },
      "source": [
        "<b>Oops!! You got an error. Hey Don't worry! Its because Once a tuple is created, you cannot change its values unlike list.</b>"
      ]
    },
    {
      "attachments": {},
      "cell_type": "markdown",
      "id": "ExB_cM1ZjNTH",
      "metadata": {
        "id": "ExB_cM1ZjNTH"
      },
      "source": [
        "#### 3.2 . Create city = (\"Bangalore\", 28.9949521, 72)"
      ]
    },
    {
      "attachments": {},
      "cell_type": "markdown",
      "id": "iXg0G-IejNTH",
      "metadata": {
        "id": "iXg0G-IejNTH"
      },
      "source": [
        "<p style='text-align: right;'> 6 points</p>\n"
      ]
    },
    {
      "cell_type": "code",
      "execution_count": 71,
      "id": "fWz52DjjjNTH",
      "metadata": {
        "id": "fWz52DjjjNTH"
      },
      "outputs": [],
      "source": [
        "city = (\"Bangalore\", 28.9949521, 72)"
      ]
    },
    {
      "attachments": {},
      "cell_type": "markdown",
      "id": "v4ipyqXsjNTH",
      "metadata": {
        "id": "v4ipyqXsjNTH"
      },
      "source": [
        "Print first element of city"
      ]
    },
    {
      "cell_type": "code",
      "execution_count": 72,
      "id": "KJHMuFk1jNTI",
      "metadata": {
        "colab": {
          "base_uri": "https://localhost:8080/"
        },
        "id": "KJHMuFk1jNTI",
        "outputId": "befec92d-d704-4854-b3ae-d86384253aa6"
      },
      "outputs": [
        {
          "name": "stdout",
          "output_type": "stream",
          "text": [
            "Bangalore\n"
          ]
        }
      ],
      "source": [
        "print(city[0])"
      ]
    },
    {
      "attachments": {},
      "cell_type": "markdown",
      "id": "N5FoHg4ujNTI",
      "metadata": {
        "id": "N5FoHg4ujNTI"
      },
      "source": [
        "Create city2 = (‘Chennai’, 30.01, 74)"
      ]
    },
    {
      "cell_type": "code",
      "execution_count": 73,
      "id": "fYuGqbDEjNTI",
      "metadata": {
        "id": "fYuGqbDEjNTI"
      },
      "outputs": [],
      "source": [
        " city2 = ('Chennai', 30.01, 74)"
      ]
    },
    {
      "attachments": {},
      "cell_type": "markdown",
      "id": "0gz-HACUjNTI",
      "metadata": {
        "id": "0gz-HACUjNTI"
      },
      "source": [
        "Create cities which consist of city and city2"
      ]
    },
    {
      "cell_type": "code",
      "execution_count": 76,
      "id": "5dTN1LQPjNTI",
      "metadata": {
        "id": "5dTN1LQPjNTI"
      },
      "outputs": [],
      "source": [
        "cities = (city, city2)"
      ]
    },
    {
      "attachments": {},
      "cell_type": "markdown",
      "id": "He-teRi2jNTI",
      "metadata": {
        "id": "He-teRi2jNTI"
      },
      "source": [
        "Print cities"
      ]
    },
    {
      "cell_type": "code",
      "execution_count": 77,
      "id": "ISySNfxGjNTI",
      "metadata": {
        "colab": {
          "base_uri": "https://localhost:8080/"
        },
        "id": "ISySNfxGjNTI",
        "outputId": "7544a024-3d29-485d-d68d-48ca699734d3"
      },
      "outputs": [
        {
          "name": "stdout",
          "output_type": "stream",
          "text": [
            "(('Bangalore', 28.9949521, 72), ('Chennai', 30.01, 74))\n"
          ]
        }
      ],
      "source": [
        "print(cities)"
      ]
    },
    {
      "attachments": {},
      "cell_type": "markdown",
      "id": "brFx6-rtjNTJ",
      "metadata": {
        "id": "brFx6-rtjNTJ"
      },
      "source": [
        "Print type of first element in cities"
      ]
    },
    {
      "cell_type": "code",
      "execution_count": 78,
      "id": "CmIifGybjNTJ",
      "metadata": {
        "colab": {
          "base_uri": "https://localhost:8080/"
        },
        "id": "CmIifGybjNTJ",
        "outputId": "de452912-96be-4ad3-fcb0-e04ad3ebcfb7"
      },
      "outputs": [
        {
          "name": "stdout",
          "output_type": "stream",
          "text": [
            "<class 'tuple'>\n"
          ]
        }
      ],
      "source": [
        "print(type(cities[0]))"
      ]
    },
    {
      "attachments": {},
      "cell_type": "markdown",
      "id": "jtk8J_yHjNTJ",
      "metadata": {
        "id": "jtk8J_yHjNTJ"
      },
      "source": [
        "print the type of cities\n"
      ]
    },
    {
      "cell_type": "code",
      "execution_count": 79,
      "id": "y9rdG29XjNTJ",
      "metadata": {
        "colab": {
          "base_uri": "https://localhost:8080/"
        },
        "id": "y9rdG29XjNTJ",
        "outputId": "09fcf67a-cacf-4656-f725-9d9925ed0008"
      },
      "outputs": [
        {
          "name": "stdout",
          "output_type": "stream",
          "text": [
            "<class 'tuple'>\n"
          ]
        }
      ],
      "source": [
        "print(type(cities))"
      ]
    },
    {
      "attachments": {},
      "cell_type": "markdown",
      "id": "uXHSadWqjNTJ",
      "metadata": {
        "id": "uXHSadWqjNTJ"
      },
      "source": [
        "Hey that implies you made a nested tuples!!"
      ]
    },
    {
      "attachments": {},
      "cell_type": "markdown",
      "id": "zViY-S_djNTJ",
      "metadata": {
        "id": "zViY-S_djNTJ"
      },
      "source": [
        "## 4. DICT"
      ]
    },
    {
      "attachments": {},
      "cell_type": "markdown",
      "id": "6eStNt7tjNTJ",
      "metadata": {
        "id": "6eStNt7tjNTJ"
      },
      "source": [
        "<p style='text-align: right;'> 11 points</p>\n"
      ]
    },
    {
      "attachments": {},
      "cell_type": "markdown",
      "id": "4NjUxRaZjNTK",
      "metadata": {
        "id": "4NjUxRaZjNTK"
      },
      "source": [
        "#### 4.1 Create a dictionary d = {\"actor\":\"amir\",\"animal\":\"cat\",\"earth\":2,\"list\":[23,32,12]}"
      ]
    },
    {
      "cell_type": "code",
      "execution_count": 1,
      "id": "UCtEFPI4jNTK",
      "metadata": {
        "id": "UCtEFPI4jNTK"
      },
      "outputs": [],
      "source": [
        "d =  {\"actor\":\"amir\",\"animal\":\"cat\",\"earth\":2,\"list\":[23,32,12]}"
      ]
    },
    {
      "attachments": {},
      "cell_type": "markdown",
      "id": "OamenDk8jNTK",
      "metadata": {
        "id": "OamenDk8jNTK"
      },
      "source": [
        "Print the value of d[0]"
      ]
    },
    {
      "cell_type": "code",
      "execution_count": 2,
      "id": "gion3awcjNTK",
      "metadata": {
        "colab": {
          "base_uri": "https://localhost:8080/",
          "height": 165
        },
        "id": "gion3awcjNTK",
        "outputId": "e5b1a919-1ebe-4a27-c5b0-1a2728e736bb"
      },
      "outputs": [
        {
          "ename": "KeyError",
          "evalue": "ignored",
          "output_type": "error",
          "traceback": [
            "\u001b[0;31m---------------------------------------------------------------------------\u001b[0m",
            "\u001b[0;31mKeyError\u001b[0m                                  Traceback (most recent call last)",
            "\u001b[0;32m<ipython-input-2-123a9cc6df61>\u001b[0m in \u001b[0;36m<module>\u001b[0;34m\u001b[0m\n\u001b[0;32m----> 1\u001b[0;31m \u001b[0md\u001b[0m\u001b[0;34m[\u001b[0m\u001b[0;36m0\u001b[0m\u001b[0;34m]\u001b[0m\u001b[0;34m\u001b[0m\u001b[0;34m\u001b[0m\u001b[0m\n\u001b[0m",
            "\u001b[0;31mKeyError\u001b[0m: 0"
          ]
        }
      ],
      "source": [
        "d[0]"
      ]
    },
    {
      "attachments": {},
      "cell_type": "markdown",
      "id": "XYtrrUigjNTK",
      "metadata": {
        "id": "XYtrrUigjNTK"
      },
      "source": [
        "<b>Oops!! again an error. again a fun fact. Dictionary return the value for key if key is in the dictionary, else throws KeyError\n",
        "and we don't have key 0 here :( </b>"
      ]
    },
    {
      "attachments": {},
      "cell_type": "markdown",
      "id": "62VXYnw1jNTK",
      "metadata": {
        "id": "62VXYnw1jNTK"
      },
      "source": [
        "Store the value of d[‘actor’] to a new variable actor."
      ]
    },
    {
      "cell_type": "code",
      "execution_count": 3,
      "id": "kkBfNz81jNTK",
      "metadata": {
        "id": "kkBfNz81jNTK"
      },
      "outputs": [],
      "source": [
        "actor=d['actor']\n"
      ]
    },
    {
      "attachments": {},
      "cell_type": "markdown",
      "id": "uFfuF569jNTL",
      "metadata": {
        "id": "uFfuF569jNTL"
      },
      "source": [
        "Print the type of actor"
      ]
    },
    {
      "cell_type": "code",
      "execution_count": 4,
      "id": "bKbFXBxyjNTL",
      "metadata": {
        "colab": {
          "base_uri": "https://localhost:8080/"
        },
        "id": "bKbFXBxyjNTL",
        "outputId": "30c7bf94-2d52-4133-8263-3fe33942b5ea"
      },
      "outputs": [
        {
          "name": "stdout",
          "output_type": "stream",
          "text": [
            "<class 'str'>\n"
          ]
        }
      ],
      "source": [
        "print(type(actor))"
      ]
    },
    {
      "attachments": {},
      "cell_type": "markdown",
      "id": "y549qN04jNTL",
      "metadata": {
        "id": "y549qN04jNTL"
      },
      "source": [
        "Store the value of d[‘list’] in new variable l. "
      ]
    },
    {
      "cell_type": "code",
      "execution_count": 5,
      "id": "I7GyOK8DjNTL",
      "metadata": {
        "id": "I7GyOK8DjNTL"
      },
      "outputs": [],
      "source": [
        "l=d['list'] "
      ]
    },
    {
      "attachments": {},
      "cell_type": "markdown",
      "id": "Ul1YMiuNjNTL",
      "metadata": {
        "id": "Ul1YMiuNjNTL"
      },
      "source": [
        "Print the type of l. "
      ]
    },
    {
      "cell_type": "code",
      "execution_count": 6,
      "id": "V0VdG9y_jNTL",
      "metadata": {
        "colab": {
          "base_uri": "https://localhost:8080/"
        },
        "id": "V0VdG9y_jNTL",
        "outputId": "a253da8c-2ccd-47f4-903b-a479bbaf4340"
      },
      "outputs": [
        {
          "name": "stdout",
          "output_type": "stream",
          "text": [
            "<class 'list'>\n"
          ]
        }
      ],
      "source": [
        "print(type(l))"
      ]
    },
    {
      "attachments": {},
      "cell_type": "markdown",
      "id": "A0CEMABhjNTL",
      "metadata": {
        "id": "A0CEMABhjNTL"
      },
      "source": [
        "Create d1 = { ‘singer’ : ‘Kr$na’ , ‘album’: ‘Still here’, ‘genre’ : ‘hip-hop’}"
      ]
    },
    {
      "cell_type": "code",
      "execution_count": 7,
      "id": "FCGCw5FEjNTL",
      "metadata": {
        "id": "FCGCw5FEjNTL"
      },
      "outputs": [],
      "source": [
        "d1 = { 'singer' : 'Kr$na' , 'album': 'Still here', 'genre' : 'hip-hop'}"
      ]
    },
    {
      "attachments": {},
      "cell_type": "markdown",
      "id": "ybGIILrLjNTM",
      "metadata": {
        "id": "ybGIILrLjNTM"
      },
      "source": [
        "Merge d1 into d."
      ]
    },
    {
      "cell_type": "code",
      "execution_count": 8,
      "id": "UmDbbQJPjNTM",
      "metadata": {
        "id": "UmDbbQJPjNTM"
      },
      "outputs": [],
      "source": [
        "d.update(d1)\n",
        "\n",
        "# d = {**d, **d1}"
      ]
    },
    {
      "attachments": {},
      "cell_type": "markdown",
      "id": "jhAPX45ZjNTM",
      "metadata": {
        "id": "jhAPX45ZjNTM"
      },
      "source": [
        "print d"
      ]
    },
    {
      "cell_type": "code",
      "execution_count": 9,
      "id": "785S26ryjNTM",
      "metadata": {
        "colab": {
          "base_uri": "https://localhost:8080/"
        },
        "id": "785S26ryjNTM",
        "outputId": "d942b8c3-9e59-4c54-b60a-b90c79f5e96a"
      },
      "outputs": [
        {
          "name": "stdout",
          "output_type": "stream",
          "text": [
            "{'actor': 'amir', 'animal': 'cat', 'earth': 2, 'list': [23, 32, 12], 'singer': 'Kr$na', 'album': 'Still here', 'genre': 'hip-hop'}\n"
          ]
        }
      ],
      "source": [
        "print(d)"
      ]
    },
    {
      "attachments": {},
      "cell_type": "markdown",
      "id": "9E852mY2jNTM",
      "metadata": {
        "id": "9E852mY2jNTM"
      },
      "source": [
        "Print all the keys in d"
      ]
    },
    {
      "cell_type": "code",
      "execution_count": 10,
      "id": "7K843OrLjNTM",
      "metadata": {
        "colab": {
          "base_uri": "https://localhost:8080/"
        },
        "id": "7K843OrLjNTM",
        "outputId": "cf1270ac-01d1-4abd-8c77-47de3501bb93"
      },
      "outputs": [
        {
          "name": "stdout",
          "output_type": "stream",
          "text": [
            "dict_keys(['actor', 'animal', 'earth', 'list', 'singer', 'album', 'genre'])\n"
          ]
        }
      ],
      "source": [
        "print(d.keys())"
      ]
    },
    {
      "attachments": {},
      "cell_type": "markdown",
      "id": "fiuzxbGkjNTN",
      "metadata": {
        "id": "fiuzxbGkjNTN"
      },
      "source": [
        "Print all the values in d"
      ]
    },
    {
      "cell_type": "code",
      "execution_count": 11,
      "id": "Pyhh6r0pjNTN",
      "metadata": {
        "colab": {
          "base_uri": "https://localhost:8080/"
        },
        "id": "Pyhh6r0pjNTN",
        "outputId": "b6361e38-8d47-4d2b-fa75-e1512d6e29e9"
      },
      "outputs": [
        {
          "name": "stdout",
          "output_type": "stream",
          "text": [
            "dict_values(['amir', 'cat', 2, [23, 32, 12], 'Kr$na', 'Still here', 'hip-hop'])\n"
          ]
        }
      ],
      "source": [
        "print(d.values())"
      ]
    },
    {
      "attachments": {},
      "cell_type": "markdown",
      "id": "XSoe8GWmjNTN",
      "metadata": {
        "id": "XSoe8GWmjNTN"
      },
      "source": [
        "Iterate over d, and print each key, value pair as given in output"
      ]
    },
    {
      "cell_type": "code",
      "execution_count": 13,
      "id": "O0iW9kiqjNTO",
      "metadata": {
        "colab": {
          "base_uri": "https://localhost:8080/"
        },
        "id": "O0iW9kiqjNTO",
        "outputId": "8876091b-109c-4625-aeba-e54d37430deb"
      },
      "outputs": [
        {
          "name": "stdout",
          "output_type": "stream",
          "text": [
            "actor  --->  amir\n",
            "animal  --->  cat\n",
            "earth  --->  2\n",
            "list  --->  [23, 32, 12]\n",
            "singer  --->  Kr$na\n",
            "album  --->  Still here\n",
            "genre  --->  hip-hop\n"
          ]
        }
      ],
      "source": [
        "for k,v in d.items():\n",
        "  print(k,\" ---> \",v)"
      ]
    },
    {
      "attachments": {},
      "cell_type": "markdown",
      "id": "Hhzm-EIsjNTO",
      "metadata": {
        "id": "Hhzm-EIsjNTO"
      },
      "source": [
        "count the number of occurences of charachters in string named \"sent\" using dictionary and print the same.\n"
      ]
    },
    {
      "cell_type": "code",
      "execution_count": 15,
      "id": "IvRlvUAljNTP",
      "metadata": {
        "colab": {
          "base_uri": "https://localhost:8080/"
        },
        "id": "IvRlvUAljNTP",
        "outputId": "48d8248f-6ac2-4126-8f14-9eb26aa9c1d4"
      },
      "outputs": [
        {
          "name": "stdout",
          "output_type": "stream",
          "text": [
            "{'C': 2, 'o': 6, 'r': 4, 'n': 3, 'a': 2, 'v': 1, 'i': 1, 'u': 3, 's': 3, ' ': 5, 'e': 2, 'd': 4, 'L': 1, 'c': 1, 'k': 1, 'w': 1, 'A': 1, 'T': 1, 'h': 1, 'W': 1, 'l': 1, '.': 1}\n"
          ]
        }
      ],
      "source": [
        "char_count = {}\n",
        "\n",
        "for char in sent:\n",
        "    if char not in char_count:\n",
        "            char_count[char] = 1\n",
        "    else:\n",
        "            char_count[char] += 1\n",
        "\n",
        "print(char_count)"
      ]
    },
    {
      "attachments": {},
      "cell_type": "markdown",
      "id": "NWpwXZjxjNTP",
      "metadata": {
        "id": "NWpwXZjxjNTP"
      },
      "source": [
        "# -------------------------------------------------------------------------------------------------------"
      ]
    },
    {
      "attachments": {},
      "cell_type": "markdown",
      "id": "nYmv8rjpjNTP",
      "metadata": {
        "id": "nYmv8rjpjNTP"
      },
      "source": [
        "# Hurray!! Second milestone completed. The next challenge is waiting for you :)\n",
        "\n",
        "# -------------------------------------------------------------------------------------------------------"
      ]
    },
    {
      "cell_type": "code",
      "execution_count": null,
      "id": "ebNwyxUujNTP",
      "metadata": {
        "id": "ebNwyxUujNTP"
      },
      "outputs": [],
      "source": []
    }
  ],
  "metadata": {
    "colab": {
      "provenance": []
    },
    "kernelspec": {
      "display_name": "Python 3",
      "language": "python",
      "name": "python3"
    },
    "language_info": {
      "codemirror_mode": {
        "name": "ipython",
        "version": 3
      },
      "file_extension": ".py",
      "mimetype": "text/x-python",
      "name": "python",
      "nbconvert_exporter": "python",
      "pygments_lexer": "ipython3",
      "version": "3.8.5"
    }
  },
  "nbformat": 4,
  "nbformat_minor": 5
}
